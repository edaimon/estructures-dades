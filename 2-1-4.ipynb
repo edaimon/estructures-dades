{
 "cells": [
  {
   "cell_type": "code",
   "execution_count": 26,
   "id": "ca7d3eac",
   "metadata": {},
   "outputs": [
    {
     "name": "stdout",
     "output_type": "stream",
     "text": [
      "{'Pomes': {'Qty': 5, '€': 0.42}, 'Peres': {'Qty': 3, '€': 0.66}, \"Melo d'alger\": {'Qty': 2, '€': 1.12}}\n",
      "Les peres han costat 1.98\n",
      "N'hi ha un total de 10 fruites\n",
      "La fruita més cara és Melo d'alger\n"
     ]
    }
   ],
   "source": [
    "# Crea un diccionari de la següent forma i respon a les preguntes:\n",
    "\n",
    "compra = { \"Pomes\" : {\"Qty\": 5, \"€\": 0.42}, \"Peres\" : {\"Qty\": 3, \"€\": 0.66} }\n",
    "\n",
    "# Afegeix alguna fruita més\n",
    "compra.update({\"Melo d'alger\" : {\"Qty\": 2, \"€\": 1.12}})\n",
    "print(compra)\n",
    "\n",
    "# Quant han costat les peres en total?\n",
    "peres_preu_total = compra[\"Peres\"][\"Qty\"] * compra[\"Peres\"][\"€\"]\n",
    "print(\"Les peres han costat\", peres_preu_total)\n",
    "\n",
    "# Quantes fruites hem comprat en total?\n",
    "fruites_items_total = sum([compra[item][\"Qty\"] for item in compra])\n",
    "print(\"N'hi ha un total de\", fruites_items_total, \"fruites\")\n",
    "\n",
    "# Quina és la fruita més cara?\n",
    "fruita_preu_max = max(compra, key=lambda item: compra[item][\"€\"])\n",
    "print(\"La fruita més cara és\", fruita_preu_max)\n",
    "\n",
    "\n"
   ]
  }
 ],
 "metadata": {
  "kernelspec": {
   "display_name": "Python 3 (ipykernel)",
   "language": "python",
   "name": "python3"
  },
  "language_info": {
   "codemirror_mode": {
    "name": "ipython",
    "version": 3
   },
   "file_extension": ".py",
   "mimetype": "text/x-python",
   "name": "python",
   "nbconvert_exporter": "python",
   "pygments_lexer": "ipython3",
   "version": "3.10.9"
  },
  "varInspector": {
   "cols": {
    "lenName": 16,
    "lenType": 16,
    "lenVar": 40
   },
   "kernels_config": {
    "python": {
     "delete_cmd_postfix": "",
     "delete_cmd_prefix": "del ",
     "library": "var_list.py",
     "varRefreshCmd": "print(var_dic_list())"
    },
    "r": {
     "delete_cmd_postfix": ") ",
     "delete_cmd_prefix": "rm(",
     "library": "var_list.r",
     "varRefreshCmd": "cat(var_dic_list()) "
    }
   },
   "types_to_exclude": [
    "module",
    "function",
    "builtin_function_or_method",
    "instance",
    "_Feature"
   ],
   "window_display": false
  }
 },
 "nbformat": 4,
 "nbformat_minor": 5
}
