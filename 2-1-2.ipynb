{
 "cells": [
  {
   "cell_type": "markdown",
   "id": "92c995e9",
   "metadata": {},
   "source": [
    "# 2-1-2\n",
    "Crea un codi que et permeti accedir a:\n",
    "El segon mes del primer trimestre.\n",
    "Els mesos del primer trimestre.\n",
    "Setembre i octubre.\n"
   ]
  },
  {
   "cell_type": "code",
   "execution_count": 5,
   "id": "99d539fc",
   "metadata": {},
   "outputs": [
    {
     "name": "stdout",
     "output_type": "stream",
     "text": [
      "febrer\n",
      "['gener', 'febrer', 'març']\n",
      "setembre\n",
      "juliol\n"
     ]
    }
   ],
   "source": [
    "list_1t = [\"gener\", \"febrer\", \"març\"]\n",
    "list_2t = [\"abril\", \"maig\", \"juny\"]\n",
    "list_3t = [\"juliol\", \"agost\", \"setembre\"]\n",
    "list_4t = [\"octubre\", \"novembre\", \"desembre\"]\n",
    "mesos_any = [list_1t, list_2t, list_3t, list_4t]\n",
    "\n",
    "# 2-1-2\n",
    "print(mesos_any[0][1])\n",
    "print(mesos_any[0])\n",
    "print(mesos_any[2][2])\n",
    "print(mesos_any[2][0])"
   ]
  }
 ],
 "metadata": {
  "kernelspec": {
   "display_name": "Python 3 (ipykernel)",
   "language": "python",
   "name": "python3"
  },
  "language_info": {
   "codemirror_mode": {
    "name": "ipython",
    "version": 3
   },
   "file_extension": ".py",
   "mimetype": "text/x-python",
   "name": "python",
   "nbconvert_exporter": "python",
   "pygments_lexer": "ipython3",
   "version": "3.10.9"
  },
  "varInspector": {
   "cols": {
    "lenName": 16,
    "lenType": 16,
    "lenVar": 40
   },
   "kernels_config": {
    "python": {
     "delete_cmd_postfix": "",
     "delete_cmd_prefix": "del ",
     "library": "var_list.py",
     "varRefreshCmd": "print(var_dic_list())"
    },
    "r": {
     "delete_cmd_postfix": ") ",
     "delete_cmd_prefix": "rm(",
     "library": "var_list.r",
     "varRefreshCmd": "cat(var_dic_list()) "
    }
   },
   "types_to_exclude": [
    "module",
    "function",
    "builtin_function_or_method",
    "instance",
    "_Feature"
   ],
   "window_display": false
  }
 },
 "nbformat": 4,
 "nbformat_minor": 5
}
