{
 "cells": [
  {
   "cell_type": "markdown",
   "id": "1f6261bf",
   "metadata": {},
   "source": [
    "# 2-1-3\n",
    "Crea una llista amb nombres desordenats i respon a les següents preguntes:\n",
    "Quants números hi ha?\n",
    "Quantes vegades apareix el número 3.\n",
    "Quantes vegades apareixen els nombres 3 i 4?\n",
    "Quin és el número més gran?\n",
    "Quins són els 3 números més petits?\n",
    "Quin és el rang d’aquesta llista?\n"
   ]
  },
  {
   "cell_type": "code",
   "execution_count": 6,
   "id": "02c04e3f",
   "metadata": {},
   "outputs": [
    {
     "name": "stdout",
     "output_type": "stream",
     "text": [
      "[1, 13, 7, 16, 18, 10, 12, 17, 9, 5, 4, 6, 19, 2, 3]\n"
     ]
    }
   ],
   "source": [
    "# Crea una llista amb nombres desordenats\n",
    "import random\n",
    "llista_random = random.sample(range(1,20),15)\n",
    "print(llista_random)\n"
   ]
  },
  {
   "cell_type": "code",
   "execution_count": 10,
   "id": "c89b3ff5",
   "metadata": {},
   "outputs": [
    {
     "name": "stdout",
     "output_type": "stream",
     "text": [
      "15\n"
     ]
    }
   ],
   "source": [
    "# Quants números hi ha?\n",
    "conta = len(llista_random)\n",
    "print(conta)"
   ]
  },
  {
   "cell_type": "code",
   "execution_count": 13,
   "id": "fc871292",
   "metadata": {},
   "outputs": [
    {
     "name": "stdout",
     "output_type": "stream",
     "text": [
      "1\n"
     ]
    }
   ],
   "source": [
    "# Quantes vegades apareix el número 3\n",
    "conta_3 = llista_random.count(3)\n",
    "print(conta_3)"
   ]
  },
  {
   "cell_type": "code",
   "execution_count": 17,
   "id": "0339c7f6",
   "metadata": {},
   "outputs": [
    {
     "name": "stdout",
     "output_type": "stream",
     "text": [
      "El número 3 apareix 1 vegada(es), i el número 4, 1\n"
     ]
    }
   ],
   "source": [
    "# Quantes vegades apareix el número 3 i el 4\n",
    "conta_3 = llista_random.count(3)\n",
    "conta_4 = llista_random.count(4)\n",
    "print(f\"El número 3 apareix {conta_3} vegada(es), i el número 4, {conta_4}\")"
   ]
  },
  {
   "cell_type": "code",
   "execution_count": 18,
   "id": "a26c4b43",
   "metadata": {},
   "outputs": [
    {
     "name": "stdout",
     "output_type": "stream",
     "text": [
      "19\n"
     ]
    }
   ],
   "source": [
    "# Quin és el número més gran?\n",
    "num_max = max(llista_random)\n",
    "print(num_max)"
   ]
  },
  {
   "cell_type": "code",
   "execution_count": 1,
   "id": "a489ec1c",
   "metadata": {},
   "outputs": [
    {
     "name": "stdout",
     "output_type": "stream",
     "text": [
      "1\n",
      "2\n",
      "5\n"
     ]
    }
   ],
   "source": [
    "# Quins són els 3 números més petits?\n",
    "\n",
    "import random\n",
    "llista_random = random.sample(range(1,20),15)\n",
    "\n",
    "llista_random.sort()\n",
    "i = 0\n",
    "while i < 3:\n",
    "    print(llista_random[i])\n",
    "    i += 1\n",
    "\n"
   ]
  },
  {
   "cell_type": "code",
   "execution_count": 2,
   "id": "84f04b82",
   "metadata": {},
   "outputs": [
    {
     "name": "stdout",
     "output_type": "stream",
     "text": [
      "18\n"
     ]
    }
   ],
   "source": [
    "#Quin és el rang d’aquesta llista?\n",
    "rang_llista = max(llista_random) - min(llista_random)\n",
    "print(rang_llista)\n"
   ]
  }
 ],
 "metadata": {
  "kernelspec": {
   "display_name": "Python 3 (ipykernel)",
   "language": "python",
   "name": "python3"
  },
  "language_info": {
   "codemirror_mode": {
    "name": "ipython",
    "version": 3
   },
   "file_extension": ".py",
   "mimetype": "text/x-python",
   "name": "python",
   "nbconvert_exporter": "python",
   "pygments_lexer": "ipython3",
   "version": "3.10.9"
  },
  "varInspector": {
   "cols": {
    "lenName": 16,
    "lenType": 16,
    "lenVar": 40
   },
   "kernels_config": {
    "python": {
     "delete_cmd_postfix": "",
     "delete_cmd_prefix": "del ",
     "library": "var_list.py",
     "varRefreshCmd": "print(var_dic_list())"
    },
    "r": {
     "delete_cmd_postfix": ") ",
     "delete_cmd_prefix": "rm(",
     "library": "var_list.r",
     "varRefreshCmd": "cat(var_dic_list()) "
    }
   },
   "types_to_exclude": [
    "module",
    "function",
    "builtin_function_or_method",
    "instance",
    "_Feature"
   ],
   "window_display": false
  }
 },
 "nbformat": 4,
 "nbformat_minor": 5
}
